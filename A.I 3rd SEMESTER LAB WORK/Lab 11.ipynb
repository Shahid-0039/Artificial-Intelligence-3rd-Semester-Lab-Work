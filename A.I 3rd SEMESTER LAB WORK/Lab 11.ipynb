{
 "cells": [
  {
   "cell_type": "code",
   "execution_count": 65,
   "id": "50057e57-f139-47e1-ba94-a29d3527c0bd",
   "metadata": {},
   "outputs": [
    {
     "name": "stdout",
     "output_type": "stream",
     "text": [
      "['World.']\n",
      "True\n"
     ]
    }
   ],
   "source": [
    "import re\n",
    "Sentence=\"Hello World.\"\n",
    "Strt_end_sentence=r\"[A-Z][a-z]+\\.\"\n",
    "print(re.findall(Strt_end_sentence,Sentence)) \n",
    "\n",
    "if re.findall(Strt_end_sentence,Sentence):\n",
    "    print(True)\n",
    "else:\n",
    "     print(False)"
   ]
  },
  {
   "cell_type": "code",
   "execution_count": 66,
   "id": "bcd8de37-c39a-453a-8163-9894b7fdaff7",
   "metadata": {},
   "outputs": [
    {
     "name": "stdout",
     "output_type": "stream",
     "text": [
      "Match found!\n"
     ]
    }
   ],
   "source": [
    "import re\n",
    "pattern = r\"\\d{5}\"\n",
    "zip_code = \"65200\"\n",
    "if re.match(pattern, zip_code):\n",
    "    print(\"Match found!\")\n",
    "else:\n",
    "    print(\"No match.\")\n"
   ]
  },
  {
   "cell_type": "code",
   "execution_count": 67,
   "id": "fa14fc9c-652d-4570-a6bc-ffa55578fea1",
   "metadata": {},
   "outputs": [
    {
     "name": "stdout",
     "output_type": "stream",
     "text": [
      "Dialogue: Character A:\"The galaxy is in turmoil. The rebels are fighting to overthrow the empire, and we need to find a way to communicate with the leaders. We can't let the forces of darkness take over our world.\"Character B: \"I agree. The resistance is our only hope. But how can we gain support from the people? We need a strategy to win their hearts and minds, to unite them against the empire.\" Character A: \"We must focus on the key battles and disrupt their communication lines. We also need to create a powerful message that inspires hope. If we can sway public opinion, we can win this war.\"\n"
     ]
    }
   ],
   "source": [
    "Dialogues = \"Dialogue: Character A:\\\"The galaxy is in turmoil. The rebels are fighting to overthrow the empire, and we need to find a way to communicate with the leaders. We can't let the forces of darkness take over our world.\\\"Character B: \\\"I agree. The resistance is our only hope. But how can we gain support from the people? We need a strategy to win their hearts and minds, to unite them against the empire.\\\" Character A: \\\"We must focus on the key battles and disrupt their communication lines. We also need to create a powerful message that inspires hope. If we can sway public opinion, we can win this war.\\\"\" \n",
    "print(Dialogues)\n"
   ]
  },
  {
   "cell_type": "code",
   "execution_count": 68,
   "id": "b85147aa-9503-4304-bc2d-58cb85c2e5bf",
   "metadata": {},
   "outputs": [],
   "source": [
    "from collections import Counter\n",
    "from nltk.tokenize import word_tokenize\n",
    "\n",
    "tokens = word_tokenize(Dialogues)\n",
    "lower_token=[]\n",
    "for t in tokens:\n",
    "    lower_token.append(t.lower())\n",
    "\n",
    "alpha_only=[]\n",
    "for t in lower_token:\n",
    "    if t.isalpha():\n",
    "        alpha_only.append(t)\n",
    "\n"
   ]
  },
  {
   "cell_type": "code",
   "execution_count": 69,
   "id": "b2c2f881-ef8f-427c-b183-6577d3b73122",
   "metadata": {},
   "outputs": [],
   "source": [
    "\n",
    "from nltk.stem import WordNetLemmatizer\n",
    "from nltk.corpus import stopwords\n",
    "no_stops=[]\n",
    "for t in alpha_only:\n",
    "    if t not in stopwords.words('english'):\n",
    "        no_stops.append(t)"
   ]
  },
  {
   "cell_type": "code",
   "execution_count": 70,
   "id": "a904dc56-caca-4a71-9a62-f1c19a0f0a84",
   "metadata": {},
   "outputs": [],
   "source": [
    "Word_net_lim=WordNetLemmatizer()\n",
    "Word_net_tokens=[]\n",
    "for t in no_stops:\n",
    "    Word_net_token=Word_net_lim.lemmatize(t)\n",
    "    Word_net_tokens.append(Word_net_token)\n",
    "    "
   ]
  },
  {
   "cell_type": "code",
   "execution_count": 71,
   "id": "2d2de862-eef9-43ca-96cf-324a63d5ea88",
   "metadata": {},
   "outputs": [
    {
     "name": "stdout",
     "output_type": "stream",
     "text": [
      "[('character', 3), ('need', 3), ('empire', 2), ('hope', 2), ('win', 2), ('dialogue', 1), ('galaxy', 1), ('turmoil', 1), ('rebel', 1), ('fighting', 1)]\n"
     ]
    }
   ],
   "source": [
    "bow = Counter(Word_net_tokens)\n",
    "print(bow.most_common(10))"
   ]
  },
  {
   "cell_type": "code",
   "execution_count": null,
   "id": "b5bd8992-97c8-4bf9-9e18-347aff9f6630",
   "metadata": {},
   "outputs": [],
   "source": []
  }
 ],
 "metadata": {
  "kernelspec": {
   "display_name": "Python 3 (ipykernel)",
   "language": "python",
   "name": "python3"
  },
  "language_info": {
   "codemirror_mode": {
    "name": "ipython",
    "version": 3
   },
   "file_extension": ".py",
   "mimetype": "text/x-python",
   "name": "python",
   "nbconvert_exporter": "python",
   "pygments_lexer": "ipython3",
   "version": "3.12.4"
  }
 },
 "nbformat": 4,
 "nbformat_minor": 5
}
