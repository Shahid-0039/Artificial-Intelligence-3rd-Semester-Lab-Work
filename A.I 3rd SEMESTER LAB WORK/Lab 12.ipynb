{
 "cells": [
  {
   "cell_type": "code",
   "execution_count": null,
   "id": "d49fe1fa-ce20-4240-913b-681aeab231cd",
   "metadata": {},
   "outputs": [],
   "source": [
    "#Lab Task 01"
   ]
  },
  {
   "cell_type": "code",
   "execution_count": 44,
   "id": "eb3fe4c9-a15e-4612-982d-3480582bc162",
   "metadata": {},
   "outputs": [],
   "source": [
    "import numpy as np"
   ]
  },
  {
   "cell_type": "code",
   "execution_count": 45,
   "id": "9c50439c-84f5-4c77-90a8-86076d223fba",
   "metadata": {},
   "outputs": [],
   "source": [
    "inputs=np.array([1,1])\n",
    "weights={\n",
    "        \"node_0\": np.array([0.8,0.2]),\n",
    "        \"node_1\": np.array([0.4,0.9]),\n",
    "        \"node_2\": np.array([0.3,0.5]),\n",
    "        \"outputs\": np.array([0.3,0.5,0.9]) }\n",
    "Node_0_value= (inputs* weights['node_0']).sum()\n",
    "Node_1_value= (inputs* weights['node_1']).sum()\n",
    "Node_2_value= (inputs* weights['node_2']).sum()\n",
    "\n"
   ]
  },
  {
   "cell_type": "code",
   "execution_count": 46,
   "id": "de7025c2-6f59-45e9-8d9f-917961f7beee",
   "metadata": {},
   "outputs": [
    {
     "name": "stdout",
     "output_type": "stream",
     "text": [
      "[1.  1.3 0.8]\n"
     ]
    }
   ],
   "source": [
    "hiddenLayer=np.array([Node_0_value,Node_1_value,Node_2_value])\n",
    "print(hiddenLayer)"
   ]
  },
  {
   "cell_type": "code",
   "execution_count": 47,
   "id": "2d5b0a2e-a638-4884-a58e-7bc35d5e12ae",
   "metadata": {},
   "outputs": [
    {
     "name": "stdout",
     "output_type": "stream",
     "text": [
      "1.67\n"
     ]
    }
   ],
   "source": [
    "output=(hiddenLayer* weights['outputs']).sum()\n",
    "print(output)"
   ]
  },
  {
   "cell_type": "code",
   "execution_count": null,
   "id": "e0614175-67c1-41c5-aeac-31ca6889a553",
   "metadata": {},
   "outputs": [],
   "source": [
    "#Lab Task 02"
   ]
  },
  {
   "cell_type": "code",
   "execution_count": 48,
   "id": "0a8d5866-5d97-4e69-9348-eabe533675f0",
   "metadata": {},
   "outputs": [],
   "source": [
    "def Relu(input):\n",
    "    output=max(0,input)\n",
    "    return (output)\n",
    "    \n",
    "inputs = np.array([[2,3,4],[3,4,5],[5,6,7]])\n",
    "\n",
    "weights={\n",
    "        \"node_1_1\": np.array([1,1,1]),\n",
    "        \"node_1_2\": np.array([1,2,-1]),\n",
    "        \"node_1_3\": np.array([3,-2,1]),\n",
    "        \"node_1_4\": np.array([1,-1,-1]),\n",
    "    \n",
    "        \"node_2_1\": np.array([2,1,2,1]),\n",
    "        \"node_2_2\": np.array([1,2,-1,2]),\n",
    "        \"node_2_3\": np.array([1,-2,1,-2]),\n",
    "        \"node_2_4\": np.array([1,-1,-1,1]),\n",
    "    \n",
    "        \"outputs\": np.array([1,3,2,1])\n",
    "}      \n"
   ]
  },
  {
   "cell_type": "code",
   "execution_count": 49,
   "id": "f3f9b74a-dc5e-471f-890e-4e1155eadafc",
   "metadata": {},
   "outputs": [],
   "source": [
    "def pred_with_network(input_data_row, weights):\n",
    "    node_1_1_input=(input_data_row*weights['node_1_1']).sum()\n",
    "    node_1_1_output= Relu(node_1_1_input)\n",
    "    \n",
    "    node_1_2_input=(input_data_row*weights['node_1_2']).sum()\n",
    "    node_1_2_output= Relu(node_1_2_input)\n",
    "    \n",
    "    node_1_3_input=(input_data_row*weights['node_1_3']).sum()\n",
    "    node_1_3_output= Relu(node_1_3_input)\n",
    "    \n",
    "    node_1_4_input=(input_data_row*weights['node_1_4']).sum()\n",
    "    node_1_4_output= Relu(node_1_4_input)\n",
    "    \n",
    "    hidden_layer_1_outputs =np.array([node_1_1_output,node_1_2_output,node_1_3_output,node_1_4_output])\n",
    "    \n",
    "    node_2_1_input=(hidden_layer_1_outputs*weights['node_2_1']).sum()\n",
    "    node_2_1_output= Relu(node_2_1_input)\n",
    "    \n",
    "    node_2_2_input=(hidden_layer_1_outputs*weights['node_2_2']).sum()\n",
    "    node_2_2_output= Relu(node_2_2_input)\n",
    "    \n",
    "    node_2_3_input=(hidden_layer_1_outputs*weights['node_2_3']).sum()\n",
    "    node_2_3_output= Relu(node_2_3_input)\n",
    "    \n",
    "    node_2_4_input=(hidden_layer_1_outputs*weights['node_2_4']).sum()\n",
    "    node_2_4_output= Relu(node_2_4_input)\n",
    "    \n",
    "    hidden_layer_2_outputs =np.array([node_2_1_output,node_2_2_output,node_2_3_output,node_2_4_output])\n",
    "    \n",
    "    Model_output=(hidden_layer_2_outputs*weights['outputs']).sum()\n",
    "    return (Model_output)\n",
    "\n",
    "    "
   ]
  },
  {
   "cell_type": "code",
   "execution_count": 50,
   "id": "99767387-bd43-4fc4-aad2-c41ee4da41fb",
   "metadata": {},
   "outputs": [
    {
     "name": "stdout",
     "output_type": "stream",
     "text": [
      "[80, 108, 166]\n"
     ]
    }
   ],
   "source": [
    "results=[]\n",
    "for row in inputs:\n",
    "    results.append(pred_with_network(row,weights))\n",
    "print(results) "
   ]
  },
  {
   "cell_type": "code",
   "execution_count": null,
   "id": "161f30e6-62b3-46f2-b01e-36914922b8d5",
   "metadata": {},
   "outputs": [],
   "source": []
  }
 ],
 "metadata": {
  "kernelspec": {
   "display_name": "Python 3 (ipykernel)",
   "language": "python",
   "name": "python3"
  },
  "language_info": {
   "codemirror_mode": {
    "name": "ipython",
    "version": 3
   },
   "file_extension": ".py",
   "mimetype": "text/x-python",
   "name": "python",
   "nbconvert_exporter": "python",
   "pygments_lexer": "ipython3",
   "version": "3.12.4"
  }
 },
 "nbformat": 4,
 "nbformat_minor": 5
}
