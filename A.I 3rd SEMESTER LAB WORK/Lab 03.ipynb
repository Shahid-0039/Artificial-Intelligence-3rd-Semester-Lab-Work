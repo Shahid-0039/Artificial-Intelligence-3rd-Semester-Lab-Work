{
 "cells": [
  {
   "cell_type": "code",
   "execution_count": 1,
   "id": "a2600cd8-0245-4eb7-bad7-7c3a26a18c23",
   "metadata": {},
   "outputs": [
    {
     "name": "stdout",
     "output_type": "stream",
     "text": [
      "('Gaffar', 'Mazhar', 'Muzamil', 'Tahir', 'Anees')\n"
     ]
    }
   ],
   "source": [
    "#Task 01\n",
    "\n",
    "people_data=((\"Gaffar\",40),(\"Mazhar\",30),(\"Muzamil\",29),(\"Shahid\",18),(\"Tahir\",24),(\"Anees\",25),(\"Razaq\",17))\n",
    "def age_name(data):\n",
    "    result = []\n",
    "    for name ,age in data:\n",
    "        if age > 20 :\n",
    "            result.append(name)\n",
    "    return tuple(result)\n",
    "persons_names = age_name(people_data)  \n",
    "print(persons_names)"
   ]
  },
  {
   "cell_type": "code",
   "execution_count": 2,
   "id": "52e4b3f8-c2d2-463f-aad6-59714204817f",
   "metadata": {},
   "outputs": [
    {
     "name": "stdin",
     "output_type": "stream",
     "text": [
      "Enter A number:  7\n"
     ]
    },
    {
     "name": "stdout",
     "output_type": "stream",
     "text": [
      "7  is Odd\n"
     ]
    }
   ],
   "source": [
    "#Task 02\n",
    "\n",
    "num=int(input(\"Enter A number: \"))\n",
    "def Even_Odd(num1):\n",
    "    if num1%2==0:\n",
    "        print(num1,\" is Even\")\n",
    "    else:\n",
    "        print(num1,\" is Odd\")\n",
    "\n",
    "Even_Odd(num)\n"
   ]
  },
  {
   "cell_type": "code",
   "execution_count": 3,
   "id": "cdc4a1c1-7f36-4660-80c7-eddcc358ebfa",
   "metadata": {},
   "outputs": [
    {
     "name": "stdout",
     "output_type": "stream",
     "text": [
      "{'English': ('M Gaffar', ' published in 2004', ' Languistic'), 'Science': ('MAzhar', 'Published in 2007', 'Scientific')}\n"
     ]
    }
   ],
   "source": [
    "#Task 03\n",
    "\n",
    "Info_of_books={\"English\": (\"M Gaffar\",\" published in 2004\",\" Languistic\"),\"Science\": (\"MAzhar\", \"Published in 2007\", \"Scientific\")}\n",
    "print(Info_of_books)"
   ]
  },
  {
   "cell_type": "code",
   "execution_count": 4,
   "id": "62762037-7d00-49ab-ad73-85a93a703e11",
   "metadata": {},
   "outputs": [
    {
     "name": "stdout",
     "output_type": "stream",
     "text": [
      "Books is added successfully in Library\n",
      "{'English': ('M Gaffar', ' published in 2004', ' Languistic'), 'Science': ('MAzhar', 'Published in 2007', 'Scientific'), 'Mathematics': ('Muzamil', 'Published in 2008', 'Mathematical')}\n"
     ]
    }
   ],
   "source": [
    "def Add_book():\n",
    "    Info_of_books.update({\"Mathematics\": (\"Muzamil\", \"Published in 2008\" , \"Mathematical\")})\n",
    "    print(\"Books is added successfully in Library\")\n",
    "Add_book()\n",
    "print(Info_of_books)\n"
   ]
  },
  {
   "cell_type": "code",
   "execution_count": 5,
   "id": "6fbf387b-f47f-4cdf-8d64-14f8d5d3dabf",
   "metadata": {},
   "outputs": [
    {
     "name": "stdin",
     "output_type": "stream",
     "text": [
      "Enter A book name: Mathematics\n"
     ]
    },
    {
     "name": "stdout",
     "output_type": "stream",
     "text": [
      "('Muzamil', 'Published in 2008', 'Mathematical')  book is deleted \n",
      "{'English': ('M Gaffar', ' published in 2004', ' Languistic'), 'Science': ('MAzhar', 'Published in 2007', 'Scientific')}\n"
     ]
    }
   ],
   "source": [
    "key=input(\"Enter A book name:\")\n",
    "def Delete_book():\n",
    "    Deleted= Info_of_books.pop(key)\n",
    "    print(Deleted,\" book is deleted \")\n",
    "Delete_book()\n",
    "print(Info_of_books)"
   ]
  },
  {
   "cell_type": "code",
   "execution_count": 6,
   "id": "4f0d0cfe-a17c-4f1a-a0d3-54174f5823f8",
   "metadata": {},
   "outputs": [
    {
     "name": "stdin",
     "output_type": "stream",
     "text": [
      "Enter A book name: English\n"
     ]
    },
    {
     "name": "stdout",
     "output_type": "stream",
     "text": [
      "Searched book is:  ('M Gaffar', ' published in 2004', ' Languistic')\n"
     ]
    }
   ],
   "source": [
    "\n",
    "key=input(\"Enter A book name:\")\n",
    "def search_Book():\n",
    "    Searched=Info_of_books.get(key)\n",
    "    print(\"Searched book is: \",Searched)\n",
    "search_Book()\n"
   ]
  },
  {
   "cell_type": "code",
   "execution_count": null,
   "id": "327587a2-b8d8-4e05-9bb3-d791f6881775",
   "metadata": {},
   "outputs": [],
   "source": []
  }
 ],
 "metadata": {
  "kernelspec": {
   "display_name": "Python 3 (ipykernel)",
   "language": "python",
   "name": "python3"
  },
  "language_info": {
   "codemirror_mode": {
    "name": "ipython",
    "version": 3
   },
   "file_extension": ".py",
   "mimetype": "text/x-python",
   "name": "python",
   "nbconvert_exporter": "python",
   "pygments_lexer": "ipython3",
   "version": "3.12.4"
  }
 },
 "nbformat": 4,
 "nbformat_minor": 5
}
