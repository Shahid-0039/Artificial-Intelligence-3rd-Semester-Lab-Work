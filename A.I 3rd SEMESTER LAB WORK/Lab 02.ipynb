{
 "cells": [
  {
   "cell_type": "code",
   "execution_count": 4,
   "id": "65590f95-9aaf-4e79-935a-fbc7dfa9efa4",
   "metadata": {},
   "outputs": [
    {
     "name": "stdin",
     "output_type": "stream",
     "text": [
      "Enter a number:  3\n"
     ]
    },
    {
     "name": "stdout",
     "output_type": "stream",
     "text": [
      "Number is positive\n"
     ]
    }
   ],
   "source": [
    "\n",
    "#TASK 01\n",
    "\n",
    "number=int(input(\"Enter a number: \"))\n",
    "if number>=1:\n",
    "    print(\"Number is positive\")\n",
    "elif number==0:\n",
    "    print(\"Number is Neutral\")\n",
    "else:\n",
    "     print(\"Number is negative\")"
   ]
  },
  {
   "cell_type": "code",
   "execution_count": 6,
   "id": "7570d565-9c23-4062-8fc4-15764d435853",
   "metadata": {},
   "outputs": [
    {
     "name": "stdin",
     "output_type": "stream",
     "text": [
      "Enter score:  50\n"
     ]
    },
    {
     "name": "stdout",
     "output_type": "stream",
     "text": [
      "The score is Below 60 \n"
     ]
    }
   ],
   "source": [
    "\n",
    "\n",
    "#TASK 02\n",
    "\n",
    "score=int(input(\"Enter score: \"))\n",
    "if score>=90:\n",
    "    print(\"Grade: A\")\n",
    "elif score>=80 and score<90:\n",
    "    print(\"Grade: B\")\n",
    "elif score>=70 and score<80:\n",
    "    print(\"Grade: C\")\n",
    "elif score>=60 and score<70:\n",
    "    print(\"Grade: D\")\n",
    "else:\n",
    "    print(\"The score is Below 60 \")\n"
   ]
  },
  {
   "cell_type": "code",
   "execution_count": 12,
   "id": "ceb6b79f-2d8c-4577-a98e-51621b08d685",
   "metadata": {},
   "outputs": [
    {
     "name": "stdout",
     "output_type": "stream",
     "text": [
      "Sum of the given series is:  49\n"
     ]
    }
   ],
   "source": [
    "\n",
    "\n",
    "#TASK 03\n",
    "\n",
    "series=[1,3,5,7,9,11,13]\n",
    "sum=0\n",
    "for Num in series:\n",
    "    sum+=Num\n",
    "print(\"Sum of the given series is: \",sum)"
   ]
  },
  {
   "cell_type": "code",
   "execution_count": 19,
   "id": "1ffc72ef-f4ec-4486-a7f2-d07bd2c9a5e8",
   "metadata": {},
   "outputs": [
    {
     "name": "stdin",
     "output_type": "stream",
     "text": [
      "Enter Any Number 5\n"
     ]
    },
    {
     "name": "stdout",
     "output_type": "stream",
     "text": [
      "Factorial of  5  is  120\n"
     ]
    }
   ],
   "source": [
    "\n",
    "\n",
    "#TASK 04\n",
    "\n",
    "num=int(input(\"Enter Any Number\"))\n",
    "factorial=1\n",
    "i=2\n",
    "while i<=num:\n",
    "    if num==0 and num==1:\n",
    "        print(\"Factorial is 1\")\n",
    "    else:\n",
    "        factorial*=i\n",
    "    i+=1\n",
    "    \n",
    "print(\"Factorial of \",num,\" is \",factorial)"
   ]
  },
  {
   "cell_type": "code",
   "execution_count": 20,
   "id": "884d56d8-c92b-4881-9605-1efd992d5903",
   "metadata": {},
   "outputs": [
    {
     "name": "stdout",
     "output_type": "stream",
     "text": [
      "['Guddu', '3 idiot', '12th Fail']\n"
     ]
    }
   ],
   "source": [
    "\n",
    "\n",
    "#TASK 05\n",
    "\n",
    "Movies=[\"Guddu\",\"3 idiot\",\"12th Fail\"]\n",
    "print(Movies)"
   ]
  },
  {
   "cell_type": "code",
   "execution_count": 21,
   "id": "368a053b-1a56-4df9-98be-002cb4301c54",
   "metadata": {},
   "outputs": [
    {
     "name": "stdout",
     "output_type": "stream",
     "text": [
      "[1, 2, 3, 4, 5, 6, 7, 8, 9, 10]\n"
     ]
    }
   ],
   "source": [
    "\n",
    "# 01\n",
    "\n",
    "Nums=[1,2,3,4,5,6,7,8,9,10]\n",
    "print(Nums)"
   ]
  },
  {
   "cell_type": "code",
   "execution_count": 22,
   "id": "96d79165-ca9d-4387-acd1-6dc257cc3117",
   "metadata": {},
   "outputs": [
    {
     "name": "stdout",
     "output_type": "stream",
     "text": [
      "[1, 3, 5, 7]\n",
      "[1, 3, 4, 5, 7]\n"
     ]
    }
   ],
   "source": [
    "\n",
    "\n",
    "# 02\n",
    "\n",
    "Numbers=[1,3,5,7]\n",
    "print(Numbers)\n",
    "Numbers.insert(2,4)\n",
    "print(Numbers)"
   ]
  },
  {
   "cell_type": "code",
   "execution_count": 23,
   "id": "e77e0fb7-bafe-4b45-bde7-dd207e1a48e8",
   "metadata": {},
   "outputs": [
    {
     "name": "stdout",
     "output_type": "stream",
     "text": [
      "['JAVA', 'C++', 'JavaScript', 'Python']\n"
     ]
    }
   ],
   "source": [
    "\n",
    "\n",
    "# 03\n",
    "\n",
    "Languages=[\"JAVA\",\"C++\",\"JavaScript\"]\n",
    "Languages.append(\"Python\")\n",
    "print(Languages)"
   ]
  },
  {
   "cell_type": "code",
   "execution_count": 24,
   "id": "38e146e9-b928-4fc6-9dfd-58e4e7f1f96f",
   "metadata": {},
   "outputs": [
    {
     "name": "stdout",
     "output_type": "stream",
     "text": [
      "[10, 20, 40, 50]\n"
     ]
    }
   ],
   "source": [
    "\n",
    "# 04\n",
    "Num=[10,20,30,40,50]\n",
    "Num.pop(2)\n",
    "print(Num)"
   ]
  },
  {
   "cell_type": "code",
   "execution_count": 25,
   "id": "b2e00927-879b-4c60-b621-6797a8df7e5c",
   "metadata": {},
   "outputs": [
    {
     "name": "stdout",
     "output_type": "stream",
     "text": [
      "['Apple', 'Banana', 'Cherry']\n",
      "['Apple', 'Cherry']\n"
     ]
    }
   ],
   "source": [
    "\n",
    "# 05\n",
    "list=[\"Apple\",\"Banana\",\"Cherry\"]\n",
    "print(list)\n",
    "del list[1]\n",
    "print(list)"
   ]
  },
  {
   "cell_type": "code",
   "execution_count": 26,
   "id": "e20c5c3b-c88a-4e4f-aba2-c2f9441f1306",
   "metadata": {},
   "outputs": [
    {
     "name": "stdout",
     "output_type": "stream",
     "text": [
      "[5, 2, 9, 1]\n",
      "[1, 2, 5, 9]\n",
      "[1, 2, 5, 9]\n"
     ]
    }
   ],
   "source": [
    "\n",
    "# TASK 06\n",
    "List=[5,2,9,1]\n",
    "print(List)\n",
    "List.sort()\n",
    "print(List)\n",
    "sorted(List) #sort the list but con't update the elements\n",
    "print(List)"
   ]
  },
  {
   "cell_type": "code",
   "execution_count": 27,
   "id": "c995c828-93ee-4375-a0c6-a04ab5e8b540",
   "metadata": {},
   "outputs": [
    {
     "name": "stdout",
     "output_type": "stream",
     "text": [
      "['Banana', 'Apple', 'Cherry']\n",
      "['Apple', 'Banana', 'Cherry']\n"
     ]
    }
   ],
   "source": [
    "\n",
    "# 01\n",
    "list1=[\"Banana\",\"Apple\",\"Cherry\"]\n",
    "print(list1)\n",
    "list1.sort()\n",
    "print(list1)"
   ]
  },
  {
   "cell_type": "code",
   "execution_count": 28,
   "id": "f59b0bfb-2c9b-46d8-adc5-d64683b64194",
   "metadata": {},
   "outputs": [
    {
     "name": "stdout",
     "output_type": "stream",
     "text": [
      "['a', 'b', 'c', 'd', 'e', 'f', 'g']\n",
      "['b', 'c', 'd']\n"
     ]
    }
   ],
   "source": [
    "\n",
    "# 02\n",
    "list2=['a','b','c','d','e','f','g']\n",
    "print(list2)\n",
    "sub_list=list2[1:4]\n",
    "print(sub_list)"
   ]
  },
  {
   "cell_type": "code",
   "execution_count": 29,
   "id": "6527f88a-c810-4e21-8055-109f2e0f0101",
   "metadata": {},
   "outputs": [
    {
     "name": "stdout",
     "output_type": "stream",
     "text": [
      "[20, 30, 40, 50, 60, 70]\n"
     ]
    }
   ],
   "source": [
    "\n",
    "# 03\n",
    "\n",
    "nums=[10,20,30,40,50,60,70]\n",
    "print(nums[1:8])"
   ]
  },
  {
   "cell_type": "code",
   "execution_count": null,
   "id": "65fe1475-0eef-46c1-9082-3673b51024d4",
   "metadata": {},
   "outputs": [],
   "source": []
  }
 ],
 "metadata": {
  "kernelspec": {
   "display_name": "Python 3 (ipykernel)",
   "language": "python",
   "name": "python3"
  },
  "language_info": {
   "codemirror_mode": {
    "name": "ipython",
    "version": 3
   },
   "file_extension": ".py",
   "mimetype": "text/x-python",
   "name": "python",
   "nbconvert_exporter": "python",
   "pygments_lexer": "ipython3",
   "version": "3.12.4"
  }
 },
 "nbformat": 4,
 "nbformat_minor": 5
}
