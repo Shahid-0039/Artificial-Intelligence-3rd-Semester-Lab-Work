{
 "cells": [
  {
   "cell_type": "code",
   "execution_count": 1,
   "id": "3fd53c53-f056-4725-874f-cae9b52cc777",
   "metadata": {},
   "outputs": [
    {
     "name": "stdin",
     "output_type": "stream",
     "text": [
      "Enter your age :  21\n"
     ]
    },
    {
     "name": "stdout",
     "output_type": "stream",
     "text": [
      "183960 Hours\n"
     ]
    }
   ],
   "source": [
    "Age =int( input(\"Enter your age : \"))\n",
    "print(Age*365*24,\"Hours\")"
   ]
  },
  {
   "cell_type": "code",
   "execution_count": 6,
   "id": "ed003601-843f-480e-81cc-af6d02ef0667",
   "metadata": {},
   "outputs": [
    {
     "name": "stdin",
     "output_type": "stream",
     "text": [
      "Enter the radius of circle :  11\n"
     ]
    },
    {
     "name": "stdout",
     "output_type": "stream",
     "text": [
      "759.88 is Area of circle\n"
     ]
    }
   ],
   "source": [
    "Radius_of_Circle = float(input(\"Enter the radius of circle : \"))\n",
    "print(2*3.14*Radius_of_Circle**2, \"is Area of circle\")\n",
    "                               "
   ]
  },
  {
   "cell_type": "code",
   "execution_count": 8,
   "id": "670480e8-e5f0-4a20-b5f5-bcf58670b0ca",
   "metadata": {},
   "outputs": [
    {
     "name": "stdin",
     "output_type": "stream",
     "text": [
      "Enter the temperature in fahrenheit :  11\n"
     ]
    },
    {
     "name": "stdout",
     "output_type": "stream",
     "text": [
      "51.8 Farenheit\n"
     ]
    }
   ],
   "source": [
    "Celcius=float(input('Enter the temperature in fahrenheit :'))\n",
    "print((9/5)*Celcius+32,'Farenheit')"
   ]
  },
  {
   "cell_type": "code",
   "execution_count": 13,
   "id": "8032aab4-f997-4680-af0b-e554b385d7a3",
   "metadata": {},
   "outputs": [
    {
     "name": "stdin",
     "output_type": "stream",
     "text": [
      "Enter A number: 5\n"
     ]
    },
    {
     "name": "stdout",
     "output_type": "stream",
     "text": [
      "Number is odd\n"
     ]
    }
   ],
   "source": [
    "Number=int(input('Enter A number:'))\n",
    "if Number%2==0:\n",
    "    print('Number is even')\n",
    "else:\n",
    "    print('Number is odd')"
   ]
  },
  {
   "cell_type": "code",
   "execution_count": 25,
   "id": "14194c67-b17d-4935-90f1-6110397bd0c7",
   "metadata": {},
   "outputs": [
    {
     "name": "stdin",
     "output_type": "stream",
     "text": [
      "Enter amount: 250\n"
     ]
    },
    {
     "name": "stdout",
     "output_type": "stream",
     "text": [
      "Discounted Amount is 246.0\n"
     ]
    }
   ],
   "source": [
    "Purchased_Amount=float(input('Enter amount:'))\n",
    "if Purchased_Amount>=100:\n",
    "    Discount=10/Purchased_Amount*100\n",
    "    Discounted_Amount=Purchased_Amount - Discount\n",
    "    print( 'Discounted Amount is',Discounted_Amount)\n",
    "elif Purchased_Amount<=50 and Purchased_Amount>20:\n",
    "    Discount=5/Purchased_Amount*100\n",
    "    Discounted_Amount = Purchased_Amount - Discount\n",
    "    print('Discounted Amount is',Discounted_Amount)\n",
    "else:\n",
    "    print('Discounted Amount is',Purchased_Amount)\n"
   ]
  },
  {
   "cell_type": "code",
   "execution_count": null,
   "id": "c138abb6-e0a8-471d-9b8c-2fc9d16ba6dd",
   "metadata": {},
   "outputs": [],
   "source": []
  }
 ],
 "metadata": {
  "kernelspec": {
   "display_name": "Python 3 (ipykernel)",
   "language": "python",
   "name": "python3"
  },
  "language_info": {
   "codemirror_mode": {
    "name": "ipython",
    "version": 3
   },
   "file_extension": ".py",
   "mimetype": "text/x-python",
   "name": "python",
   "nbconvert_exporter": "python",
   "pygments_lexer": "ipython3",
   "version": "3.12.4"
  }
 },
 "nbformat": 4,
 "nbformat_minor": 5
}
